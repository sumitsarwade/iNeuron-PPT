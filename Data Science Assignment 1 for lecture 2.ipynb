{
 "cells": [
  {
   "cell_type": "markdown",
   "id": "d73ddf0c",
   "metadata": {},
   "source": [
    "##  Assignment 1 for lecture 2"
   ]
  },
  {
   "cell_type": "markdown",
   "id": "2293e6a6",
   "metadata": {},
   "source": [
    "#### 1 Write a Python program to reverse a string without using any built-in string reversal functions"
   ]
  },
  {
   "cell_type": "code",
   "execution_count": 1,
   "id": "2f07c341",
   "metadata": {},
   "outputs": [
    {
     "name": "stdout",
     "output_type": "stream",
     "text": [
      "Enter a string: sumit\n",
      "Reversed string: timus\n"
     ]
    }
   ],
   "source": [
    "def reverse_string(input_string):\n",
    "    reversed_string = \"\"\n",
    "    for i in range(len(input_string) - 1, -1, -1):\n",
    "        reversed_string += input_string[i]\n",
    "    return reversed_string\n",
    "\n",
    "# Example usage\n",
    "string_to_reverse = input(\"Enter a string: \")\n",
    "reversed_string = reverse_string(string_to_reverse)\n",
    "print(\"Reversed string:\", reversed_string)"
   ]
  },
  {
   "cell_type": "markdown",
   "id": "0e41494b",
   "metadata": {},
   "source": [
    "2. Implement a function to check if a given string is a palindrome."
   ]
  },
  {
   "cell_type": "code",
   "execution_count": 57,
   "id": "8f639ee8",
   "metadata": {},
   "outputs": [
    {
     "name": "stdout",
     "output_type": "stream",
     "text": [
      "Enter a string: 123\n",
      "Not a palindrome\n"
     ]
    }
   ],
   "source": [
    "def is_palindrome(input_string):\n",
    "    # Remove whitespace and convert to lowercase\n",
    "    cleaned_string = input_string.replace(\" \", \"\").lower()\n",
    "    # Check if the cleaned string is equal to its reverse\n",
    "    return cleaned_string == cleaned_string[::-1]\n",
    "\n",
    "# Example usage\n",
    "string = input(\"Enter a string: \")\n",
    "if is_palindrome(string):\n",
    "    print(\"Palindrome\")\n",
    "else:\n",
    "    print(\"Not a palindrome\")"
   ]
  },
  {
   "cell_type": "markdown",
   "id": "6b2d6c33",
   "metadata": {},
   "source": [
    "3. Write a program to find the largest element in a given list"
   ]
  },
  {
   "cell_type": "code",
   "execution_count": 2,
   "id": "8b06e7f4",
   "metadata": {},
   "outputs": [
    {
     "name": "stdout",
     "output_type": "stream",
     "text": [
      "Largest number: 10\n"
     ]
    }
   ],
   "source": [
    "def find_largest_element(input_list):\n",
    "    largest = input_list[0]\n",
    "    for num in input_list:\n",
    "        if num > largest:\n",
    "            largest = num\n",
    "    return largest\n",
    "\n",
    "# Example usage\n",
    "numbers = [5, 10, 3, 8, 1]\n",
    "largest_number = find_largest_element(numbers)\n",
    "print(\"Largest number:\", largest_number)"
   ]
  },
  {
   "cell_type": "markdown",
   "id": "f0587eba",
   "metadata": {},
   "source": [
    "4. Implement a function to count the occurrence of each element in a list."
   ]
  },
  {
   "cell_type": "code",
   "execution_count": 3,
   "id": "4f6b7a2a",
   "metadata": {},
   "outputs": [
    {
     "name": "stdout",
     "output_type": "stream",
     "text": [
      "Occurrence count: {1: 2, 2: 2, 3: 3, 4: 1}\n"
     ]
    }
   ],
   "source": [
    "def count_occurrences(input_list):\n",
    "    occurrences = {}\n",
    "    for item in input_list:\n",
    "        if item in occurrences:\n",
    "            occurrences[item] += 1\n",
    "        else:\n",
    "            occurrences[item] = 1\n",
    "    return occurrences\n",
    "\n",
    "# Example usage\n",
    "elements = [1, 2, 3, 2, 1, 3, 3, 4]\n",
    "occurrence_count = count_occurrences(elements)\n",
    "print(\"Occurrence count:\", occurrence_count)"
   ]
  },
  {
   "cell_type": "markdown",
   "id": "83847b55",
   "metadata": {},
   "source": [
    "5. Write a Python program to find the second largest number in a list."
   ]
  },
  {
   "cell_type": "code",
   "execution_count": 4,
   "id": "2c122be0",
   "metadata": {},
   "outputs": [
    {
     "name": "stdout",
     "output_type": "stream",
     "text": [
      "Second largest number: 8\n"
     ]
    }
   ],
   "source": [
    "def find_second_largest(input_list):\n",
    "    largest = float('-inf')\n",
    "    second_largest = float('-inf')\n",
    "    for num in input_list:\n",
    "        if num > largest:\n",
    "            second_largest = largest\n",
    "            largest = num\n",
    "        elif num > second_largest and num != largest:\n",
    "            second_largest = num\n",
    "    return second_largest\n",
    "\n",
    "# Example usage\n",
    "numbers = [5, 10, 3, 8, 1]\n",
    "second_largest_number = find_second_largest(numbers)\n",
    "print(\"Second largest number:\", second_largest_number)"
   ]
  },
  {
   "cell_type": "markdown",
   "id": "211a027a",
   "metadata": {},
   "source": [
    "6. Implement a function to remove duplicate elements from a list."
   ]
  },
  {
   "cell_type": "code",
   "execution_count": 5,
   "id": "bce6848e",
   "metadata": {},
   "outputs": [
    {
     "name": "stdout",
     "output_type": "stream",
     "text": [
      "Unique elements: [1, 2, 3, 4]\n"
     ]
    }
   ],
   "source": [
    "def remove_duplicates(input_list):\n",
    "    unique_list = []\n",
    "    for item in input_list:\n",
    "        if item not in unique_list:\n",
    "            unique_list.append(item)\n",
    "    return unique_list\n",
    "\n",
    "# Example usage\n",
    "elements = [1, 2, 3, 2, 1, 3, 3, 4]\n",
    "unique_elements = remove_duplicates(elements)\n",
    "print(\"Unique elements:\", unique_elements)\n"
   ]
  },
  {
   "cell_type": "markdown",
   "id": "e0897095",
   "metadata": {},
   "source": [
    "7. Write a program to calculate the factorial of a given number."
   ]
  },
  {
   "cell_type": "code",
   "execution_count": 6,
   "id": "6df2c62d",
   "metadata": {},
   "outputs": [
    {
     "name": "stdout",
     "output_type": "stream",
     "text": [
      "Enter a number: 12\n",
      "Factorial: 479001600\n"
     ]
    }
   ],
   "source": [
    "def factorial(n):\n",
    "    if n == 0:\n",
    "        return 1\n",
    "    else:\n",
    "        return n * factorial(n - 1)\n",
    "\n",
    "# Example usage\n",
    "number = int(input(\"Enter a number: \"))\n",
    "result = factorial(number)\n",
    "print(\"Factorial:\", result)\n"
   ]
  },
  {
   "cell_type": "markdown",
   "id": "0adf74d8",
   "metadata": {},
   "source": [
    "8. Implement a function to check if a given number is prime."
   ]
  },
  {
   "cell_type": "code",
   "execution_count": 7,
   "id": "acff725a",
   "metadata": {},
   "outputs": [
    {
     "name": "stdout",
     "output_type": "stream",
     "text": [
      "Enter a number: 12\n",
      "Not prime\n"
     ]
    }
   ],
   "source": [
    "def is_prime(number):\n",
    "    if number < 2:\n",
    "        return False\n",
    "    for i in range(2, int(number ** 0.5) + 1):\n",
    "        if number % i == 0:\n",
    "            return False\n",
    "    return True\n",
    "\n",
    "# Example usage\n",
    "number = int(input(\"Enter a number: \"))\n",
    "if is_prime(number):\n",
    "    print(\"Prime\")\n",
    "else:\n",
    "    print(\"Not prime\")\n",
    "    \n"
   ]
  },
  {
   "cell_type": "markdown",
   "id": "bd2c469f",
   "metadata": {},
   "source": [
    "9. Write a Python program to sort a list of integers in ascending order."
   ]
  },
  {
   "cell_type": "code",
   "execution_count": 8,
   "id": "b9335f1c",
   "metadata": {},
   "outputs": [
    {
     "name": "stdout",
     "output_type": "stream",
     "text": [
      "Sorted numbers: [1, 2, 3, 5, 8]\n"
     ]
    }
   ],
   "source": [
    "def sort_list(input_list):\n",
    "    sorted_list = input_list[:]\n",
    "    for i in range(len(sorted_list)):\n",
    "        for j in range(i + 1, len(sorted_list)):\n",
    "            if sorted_list[j] < sorted_list[i]:\n",
    "                sorted_list[i], sorted_list[j] = sorted_list[j], sorted_list[i]\n",
    "    return sorted_list\n",
    "\n",
    "# Example usage\n",
    "numbers = [5, 2, 8, 1, 3]\n",
    "sorted_numbers = sort_list(numbers)\n",
    "print(\"Sorted numbers:\", sorted_numbers)\n"
   ]
  },
  {
   "cell_type": "markdown",
   "id": "35caa7fc",
   "metadata": {},
   "source": [
    "10. Implement a function to find the sum of all numbers in a list."
   ]
  },
  {
   "cell_type": "code",
   "execution_count": 9,
   "id": "3af9aba9",
   "metadata": {},
   "outputs": [
    {
     "name": "stdout",
     "output_type": "stream",
     "text": [
      "Sum of numbers: 19\n"
     ]
    }
   ],
   "source": [
    "def find_sum(input_list):\n",
    "    total = 0\n",
    "    for num in input_list:\n",
    "        total += num\n",
    "    return total\n",
    "\n",
    "# Example usage\n",
    "numbers = [5, 2, 8, 1, 3]\n",
    "sum_of_numbers = find_sum(numbers)\n",
    "print(\"Sum of numbers:\", sum_of_numbers)\n"
   ]
  },
  {
   "cell_type": "markdown",
   "id": "70e13cc8",
   "metadata": {},
   "source": [
    "11. Write a program to find the common elements between two lists"
   ]
  },
  {
   "cell_type": "code",
   "execution_count": 10,
   "id": "6e5af839",
   "metadata": {},
   "outputs": [
    {
     "name": "stdout",
     "output_type": "stream",
     "text": [
      "Common elements: [4, 5]\n"
     ]
    }
   ],
   "source": [
    "def find_common_elements(list1, list2):\n",
    "    common_elements = []\n",
    "    for item in list1:\n",
    "        if item in list2 and item not in common_elements:\n",
    "            common_elements.append(item)\n",
    "    return common_elements\n",
    "\n",
    "# Example usage\n",
    "list_a = [1, 2, 3, 4, 5]\n",
    "list_b = [4, 5, 6, 7, 8]\n",
    "common_elements = find_common_elements(list_a, list_b)\n",
    "print(\"Common elements:\", common_elements)\n"
   ]
  },
  {
   "cell_type": "markdown",
   "id": "4ec5e8a8",
   "metadata": {},
   "source": [
    "12. Implement a function to check if a given string is an anagram of another string."
   ]
  },
  {
   "cell_type": "code",
   "execution_count": 11,
   "id": "c30a2294",
   "metadata": {},
   "outputs": [
    {
     "name": "stdout",
     "output_type": "stream",
     "text": [
      "Anagrams\n"
     ]
    }
   ],
   "source": [
    "def is_anagram(string1, string2):\n",
    "    if len(string1) != len(string2):\n",
    "        return False\n",
    "    sorted_string1 = sorted(string1)\n",
    "    sorted_string2 = sorted(string2)\n",
    "    return sorted_string1 == sorted_string2\n",
    "\n",
    "# Example usage\n",
    "string_a = \"listen\"\n",
    "string_b = \"silent\"\n",
    "if is_anagram(string_a, string_b):\n",
    "    print(\"Anagrams\")\n",
    "else:\n",
    "    print(\"Not anagrams\")\n"
   ]
  },
  {
   "cell_type": "markdown",
   "id": "c70f8a89",
   "metadata": {},
   "source": [
    "13. Write a Python program to generate all permutations of a given string."
   ]
  },
  {
   "cell_type": "code",
   "execution_count": 58,
   "id": "83cff7f6",
   "metadata": {},
   "outputs": [
    {
     "name": "stdout",
     "output_type": "stream",
     "text": [
      "Enter a string: abc\n",
      "Permutations: ['abc', 'acb', 'bac', 'bca', 'cab', 'cba']\n"
     ]
    }
   ],
   "source": [
    "def generate_permutations(input_string):\n",
    "    if len(input_string) == 1:\n",
    "        return [input_string]\n",
    "    permutations = []\n",
    "    for i in range(len(input_string)):\n",
    "        first_char = input_string[i]\n",
    "        remaining_chars = input_string[:i] + input_string[i+1:]\n",
    "        for perm in generate_permutations(remaining_chars):\n",
    "            permutations.append(first_char + perm)\n",
    "    return permutations\n",
    "\n",
    "# Example usage\n",
    "string = input(\"Enter a string: \")\n",
    "permutations = generate_permutations(string)\n",
    "print(\"Permutations:\", permutations)\n"
   ]
  },
  {
   "cell_type": "markdown",
   "id": "46c62dcd",
   "metadata": {},
   "source": [
    "14. Implement a function to calculate the Fibonacci sequence up to a given number of terms."
   ]
  },
  {
   "cell_type": "code",
   "execution_count": 14,
   "id": "bae15f49",
   "metadata": {},
   "outputs": [
    {
     "name": "stdout",
     "output_type": "stream",
     "text": [
      "Enter the number of Fibonacci terms: 2\n",
      "Fibonacci sequence: [0, 1]\n"
     ]
    }
   ],
   "source": [
    "def fibonacci_sequence(n):\n",
    "    sequence = []\n",
    "    if n >= 1:\n",
    "        sequence.append(0)\n",
    "    if n >= 2:\n",
    "        sequence.append(1)\n",
    "    for i in range(2, n):\n",
    "        sequence.append(sequence[i-1] + sequence[i-2])\n",
    "    return sequence\n",
    "\n",
    "# Example usage\n",
    "terms = int(input(\"Enter the number of Fibonacci terms: \"))\n",
    "fibonacci_terms = fibonacci_sequence(terms)\n",
    "print(\"Fibonacci sequence:\", fibonacci_terms)\n"
   ]
  },
  {
   "cell_type": "markdown",
   "id": "798f0883",
   "metadata": {},
   "source": [
    "15. Write a program to find the median of a list of numbers."
   ]
  },
  {
   "cell_type": "code",
   "execution_count": 16,
   "id": "6e5ce5fc",
   "metadata": {},
   "outputs": [
    {
     "name": "stdout",
     "output_type": "stream",
     "text": [
      "Median: 3\n"
     ]
    }
   ],
   "source": [
    "def find_median(numbers):\n",
    "    sorted_numbers = sorted(numbers)\n",
    "    n = len(sorted_numbers)\n",
    "    if n % 2 == 0:\n",
    "        mid = n // 2\n",
    "        median = (sorted_numbers[mid-1] + sorted_numbers[mid]) / 2\n",
    "    else:\n",
    "        mid = n // 2\n",
    "        median = sorted_numbers[mid]\n",
    "    return median\n",
    "\n",
    "# Example usage\n",
    "numbers_list = [1, 4, 2, 5, 3]\n",
    "median_value = find_median(numbers_list)\n",
    "print(\"Median:\", median_value)\n"
   ]
  },
  {
   "cell_type": "markdown",
   "id": "12690230",
   "metadata": {},
   "source": [
    "16. Implement a function to check if a given list is sorted in non-decreasing order."
   ]
  },
  {
   "cell_type": "code",
   "execution_count": 59,
   "id": "fe1d1720",
   "metadata": {},
   "outputs": [
    {
     "name": "stdout",
     "output_type": "stream",
     "text": [
      "List is not sorted\n"
     ]
    }
   ],
   "source": [
    "def is_sorted(input_list):\n",
    "    for i in range(len(input_list) - 1):\n",
    "        if input_list[i] > input_list[i+1]:\n",
    "            return False\n",
    "    return True\n",
    "\n",
    "# Example usage\n",
    "numbers = [1, 2, 7, 4, 5]\n",
    "if is_sorted(numbers):\n",
    "    print(\"List is sorted\")\n",
    "else:\n",
    "    print(\"List is not sorted\")\n"
   ]
  },
  {
   "cell_type": "markdown",
   "id": "cb92c154",
   "metadata": {},
   "source": [
    "17. Write a Python program to find the intersection of two lists."
   ]
  },
  {
   "cell_type": "code",
   "execution_count": 18,
   "id": "72863eb4",
   "metadata": {},
   "outputs": [
    {
     "name": "stdout",
     "output_type": "stream",
     "text": [
      "Intersection: [4, 5]\n"
     ]
    }
   ],
   "source": [
    "def find_intersection(list1, list2):\n",
    "    intersection = []\n",
    "    for item in list1:\n",
    "        if item in list2 and item not in intersection:\n",
    "            intersection.append(item)\n",
    "    return intersection\n",
    "\n",
    "# Example usage\n",
    "list_a = [1, 2, 3, 4, 5]\n",
    "list_b = [4, 5, 6, 7, 8]\n",
    "intersection_list = find_intersection(list_a, list_b)\n",
    "print(\"Intersection:\", intersection_list)\n"
   ]
  },
  {
   "cell_type": "markdown",
   "id": "99066c44",
   "metadata": {},
   "source": [
    "18. Implement a function to find the maximum subarray sum in a given list"
   ]
  },
  {
   "cell_type": "code",
   "execution_count": 19,
   "id": "6924db6a",
   "metadata": {},
   "outputs": [
    {
     "name": "stdout",
     "output_type": "stream",
     "text": [
      "Maximum subarray sum: 8\n"
     ]
    }
   ],
   "source": [
    "def find_maximum_subarray_sum(input_list):\n",
    "    max_sum = input_list[0]\n",
    "    current_sum = input_list[0]\n",
    "    for num in input_list[1:]:\n",
    "        current_sum = max(num, current_sum + num)\n",
    "        max_sum = max(max_sum, current_sum)\n",
    "    return max_sum\n",
    "\n",
    "# Example usage\n",
    "numbers = [1, -2, 3, 4, -1, 2, -6, 5]\n",
    "maximum_sum = find_maximum_subarray_sum(numbers)\n",
    "print(\"Maximum subarray sum:\", maximum_sum)\n"
   ]
  },
  {
   "cell_type": "markdown",
   "id": "ebb58767",
   "metadata": {},
   "source": [
    "19. Write a program to remove all vowels from a given string."
   ]
  },
  {
   "cell_type": "code",
   "execution_count": 20,
   "id": "94f3bd3f",
   "metadata": {},
   "outputs": [
    {
     "name": "stdout",
     "output_type": "stream",
     "text": [
      "String without vowels: Hll, Wrld!\n"
     ]
    }
   ],
   "source": [
    "def remove_vowels(input_string):\n",
    "    vowels = ['a', 'e', 'i', 'o', 'u']\n",
    "    result = \"\"\n",
    "    for char in input_string:\n",
    "        if char.lower() not in vowels:\n",
    "            result += char\n",
    "    return result\n",
    "\n",
    "# Example usage\n",
    "string = \"Hello, World!\"\n",
    "result_string = remove_vowels(string)\n",
    "print(\"String without vowels:\", result_string)\n"
   ]
  },
  {
   "cell_type": "markdown",
   "id": "ce7ed5d2",
   "metadata": {},
   "source": [
    "20. Implement a function to reverse the order of words in a given sentence."
   ]
  },
  {
   "cell_type": "code",
   "execution_count": 60,
   "id": "1dc33d09",
   "metadata": {},
   "outputs": [
    {
     "name": "stdout",
     "output_type": "stream",
     "text": [
      "Reversed sentence: World! Hello,\n"
     ]
    }
   ],
   "source": [
    "def reverse_words(sentence):\n",
    "    words = sentence.split()\n",
    "    reversed_words = ' '.join(reversed(words))\n",
    "    return reversed_words\n",
    "\n",
    "# Example usage\n",
    "input_sentence = \"Hello, World!\"\n",
    "reversed_sentence = reverse_words(input_sentence)\n",
    "print(\"Reversed sentence:\", reversed_sentence)\n"
   ]
  },
  {
   "cell_type": "markdown",
   "id": "66376047",
   "metadata": {},
   "source": [
    "21. Write a Python program to check if two strings are anagrams of each other."
   ]
  },
  {
   "cell_type": "code",
   "execution_count": 22,
   "id": "b0de9e08",
   "metadata": {},
   "outputs": [
    {
     "name": "stdout",
     "output_type": "stream",
     "text": [
      "Anagrams\n"
     ]
    }
   ],
   "source": [
    "def are_anagrams(string1, string2):\n",
    "    sorted_string1 = sorted(string1.lower())\n",
    "    sorted_string2 = sorted(string2.lower())\n",
    "    return sorted_string1 == sorted_string2\n",
    "\n",
    "# Example usage\n",
    "string_a = \"listen\"\n",
    "string_b = \"silent\"\n",
    "if are_anagrams(string_a, string_b):\n",
    "    print(\"Anagrams\")\n",
    "else:\n",
    "    print(\"Not anagrams\")\n"
   ]
  },
  {
   "cell_type": "markdown",
   "id": "9145ed01",
   "metadata": {},
   "source": [
    "22. Implement a function to find the first non-repeating character in a string."
   ]
  },
  {
   "cell_type": "code",
   "execution_count": 23,
   "id": "5fe5465d",
   "metadata": {},
   "outputs": [
    {
     "name": "stdout",
     "output_type": "stream",
     "text": [
      "First non-repeating character: h\n"
     ]
    }
   ],
   "source": [
    "def find_first_non_repeating_character(input_string):\n",
    "    char_count = {}\n",
    "    for char in input_string:\n",
    "        if char in char_count:\n",
    "            char_count[char] += 1\n",
    "        else:\n",
    "            char_count[char] = 1\n",
    "    for char in input_string:\n",
    "        if char_count[char] == 1:\n",
    "            return char\n",
    "    return None\n",
    "\n",
    "# Example usage\n",
    "string = \"hello\"\n",
    "first_non_repeating_char = find_first_non_repeating_character(string)\n",
    "print(\"First non-repeating character:\", first_non_repeating_char)\n"
   ]
  },
  {
   "cell_type": "markdown",
   "id": "e1c5ebc1",
   "metadata": {},
   "source": [
    "23. Write a program to find the prime factors of a given number."
   ]
  },
  {
   "cell_type": "code",
   "execution_count": 24,
   "id": "03636057",
   "metadata": {},
   "outputs": [
    {
     "name": "stdout",
     "output_type": "stream",
     "text": [
      "Enter a number: 12\n",
      "Prime factors: [2, 2, 3]\n"
     ]
    }
   ],
   "source": [
    "def find_prime_factors(number):\n",
    "    factors = []\n",
    "    i = 2\n",
    "    while i * i <= number:\n",
    "        if number % i:\n",
    "            i += 1\n",
    "        else:\n",
    "            number //= i\n",
    "            factors.append(i)\n",
    "    if number > 1:\n",
    "        factors.append(number)\n",
    "    return factors\n",
    "\n",
    "# Example usage\n",
    "number = int(input(\"Enter a number: \"))\n",
    "prime_factors = find_prime_factors(number)\n",
    "print(\"Prime factors:\", prime_factors)\n"
   ]
  },
  {
   "cell_type": "markdown",
   "id": "433a828d",
   "metadata": {},
   "source": [
    "24. Implement a function to check if a given number is a power of two."
   ]
  },
  {
   "cell_type": "code",
   "execution_count": 26,
   "id": "79ef7ee7",
   "metadata": {},
   "outputs": [
    {
     "name": "stdout",
     "output_type": "stream",
     "text": [
      "Enter a number: 4\n",
      "Power of two\n"
     ]
    }
   ],
   "source": [
    "def is_power_of_two(number):\n",
    "    if number <= 0:\n",
    "        return False\n",
    "    return (number & (number - 1)) == 0\n",
    "\n",
    "# Example usage\n",
    "number = int(input(\"Enter a number: \"))\n",
    "if is_power_of_two(number):\n",
    "    print(\"Power of two\")\n",
    "else:\n",
    "    print(\"Not a power of two\")\n"
   ]
  },
  {
   "cell_type": "markdown",
   "id": "db0fa584",
   "metadata": {},
   "source": [
    "25. Write a Python program to merge two sorted lists into a single sorted list."
   ]
  },
  {
   "cell_type": "code",
   "execution_count": 27,
   "id": "34102501",
   "metadata": {},
   "outputs": [
    {
     "name": "stdout",
     "output_type": "stream",
     "text": [
      "Merged list: [1, 2, 3, 4, 5, 6, 7, 8]\n"
     ]
    }
   ],
   "source": [
    "def merge_sorted_lists(list1, list2):\n",
    "    merged_list = []\n",
    "    i = 0\n",
    "    j = 0\n",
    "    while i < len(list1) and j < len(list2):\n",
    "        if list1[i] < list2[j]:\n",
    "            merged_list.append(list1[i])\n",
    "            i += 1\n",
    "        else:\n",
    "            merged_list.append(list2[j])\n",
    "            j += 1\n",
    "    while i < len(list1):\n",
    "        merged_list.append(list1[i])\n",
    "        i += 1\n",
    "    while j < len(list2):\n",
    "        merged_list.append(list2[j])\n",
    "        j += 1\n",
    "    return merged_list\n",
    "\n",
    "# Example usage\n",
    "list_a = [1, 3, 5, 7]\n",
    "list_b = [2, 4, 6, 8]\n",
    "merged_list = merge_sorted_lists(list_a, list_b)\n",
    "print(\"Merged list:\", merged_list)\n"
   ]
  },
  {
   "cell_type": "markdown",
   "id": "961eba01",
   "metadata": {},
   "source": [
    "26. Implement a function to find the mode of a list of numbers."
   ]
  },
  {
   "cell_type": "code",
   "execution_count": 28,
   "id": "723d61c7",
   "metadata": {},
   "outputs": [
    {
     "name": "stdout",
     "output_type": "stream",
     "text": [
      "Mode: [4]\n"
     ]
    }
   ],
   "source": [
    "from collections import Counter\n",
    "\n",
    "def find_mode(numbers):\n",
    "    count = Counter(numbers)\n",
    "    max_count = max(count.values())\n",
    "    mode = [num for num, freq in count.items() if freq == max_count]\n",
    "    return mode\n",
    "\n",
    "# Example usage\n",
    "numbers = [1, 2, 2, 3, 3, 3, 4, 4, 4, 4]\n",
    "mode_numbers = find_mode(numbers)\n",
    "print(\"Mode:\", mode_numbers)\n"
   ]
  },
  {
   "cell_type": "markdown",
   "id": "5f5d182f",
   "metadata": {},
   "source": [
    "27. Write a program to find the greatest common divisor (GCD) of two numbers."
   ]
  },
  {
   "cell_type": "code",
   "execution_count": 29,
   "id": "f728b0b7",
   "metadata": {},
   "outputs": [
    {
     "name": "stdout",
     "output_type": "stream",
     "text": [
      "GCD: 12\n"
     ]
    }
   ],
   "source": [
    "def find_gcd(a, b):\n",
    "    while b != 0:\n",
    "        a, b = b, a % b\n",
    "    return a\n",
    "\n",
    "# Example usage\n",
    "num1 = 36\n",
    "num2 = 48\n",
    "gcd = find_gcd(num1, num2)\n",
    "print(\"GCD:\", gcd)\n"
   ]
  },
  {
   "cell_type": "markdown",
   "id": "98af3c70",
   "metadata": {},
   "source": [
    "28. Implement a function to calculate the square root of a given number."
   ]
  },
  {
   "cell_type": "code",
   "execution_count": 30,
   "id": "fe16d79b",
   "metadata": {},
   "outputs": [
    {
     "name": "stdout",
     "output_type": "stream",
     "text": [
      "Enter a number: 27\n",
      "Square root: 5.19615242285917\n"
     ]
    }
   ],
   "source": [
    "def calculate_square_root(number):\n",
    "    if number < 0:\n",
    "        return None\n",
    "    guess = number\n",
    "    while abs(guess * guess - number) > 0.0001:\n",
    "        guess = (guess + number / guess) / 2\n",
    "    return guess\n",
    "\n",
    "# Example usage\n",
    "number = float(input(\"Enter a number: \"))\n",
    "square_root = calculate_square_root(number)\n",
    "if square_root is None:\n",
    "    print(\"Invalid input\")\n",
    "else:\n",
    "    print(\"Square root:\", square_root)\n"
   ]
  },
  {
   "cell_type": "markdown",
   "id": "977ce185",
   "metadata": {},
   "source": [
    "29. Write a Python program to check if a given string is a valid palindrome ignoring non-alphanumeric characters."
   ]
  },
  {
   "cell_type": "code",
   "execution_count": 31,
   "id": "89c86c53",
   "metadata": {},
   "outputs": [
    {
     "name": "stdout",
     "output_type": "stream",
     "text": [
      "Valid palindrome\n"
     ]
    }
   ],
   "source": [
    "import re\n",
    "\n",
    "def is_valid_palindrome(string):\n",
    "    cleaned_string = re.sub(r'[^a-zA-Z0-9]', '', string).lower()\n",
    "    return cleaned_string == cleaned_string[::-1]\n",
    "\n",
    "# Example usage\n",
    "input_string = \"A man, a plan, a canal: Panama\"\n",
    "if is_valid_palindrome(input_string):\n",
    "    print(\"Valid palindrome\")\n",
    "else:\n",
    "    print(\"Not a valid palindrome\")\n"
   ]
  },
  {
   "cell_type": "markdown",
   "id": "7c228505",
   "metadata": {},
   "source": [
    "30. Implement a function to find the minimum element in a rotated sorted list."
   ]
  },
  {
   "cell_type": "code",
   "execution_count": 32,
   "id": "b5924509",
   "metadata": {},
   "outputs": [
    {
     "name": "stdout",
     "output_type": "stream",
     "text": [
      "Minimum element: 0\n"
     ]
    }
   ],
   "source": [
    "def find_min_in_rotated_sorted_list(nums):\n",
    "    left = 0\n",
    "    right = len(nums) - 1\n",
    "    while left < right:\n",
    "        mid = left + (right - left) // 2\n",
    "        if nums[mid] > nums[right]:\n",
    "            left = mid + 1\n",
    "        else:\n",
    "            right = mid\n",
    "    return nums[left]\n",
    "\n",
    "# Example usage\n",
    "rotated_list = [4, 5, 6, 7, 0, 1, 2]\n",
    "minimum_element = find_min_in_rotated_sorted_list(rotated_list)\n",
    "print(\"Minimum element:\", minimum_element)\n"
   ]
  },
  {
   "cell_type": "markdown",
   "id": "374cc7a0",
   "metadata": {},
   "source": [
    "31. Write a program to find the sum of all even numbers in a list."
   ]
  },
  {
   "cell_type": "code",
   "execution_count": 33,
   "id": "99f5d913",
   "metadata": {},
   "outputs": [
    {
     "name": "stdout",
     "output_type": "stream",
     "text": [
      "Sum of evens: 30\n"
     ]
    }
   ],
   "source": [
    "def find_sum_of_evens(numbers):\n",
    "    total = 0\n",
    "    for num in numbers:\n",
    "        if num % 2 == 0:\n",
    "            total += num\n",
    "    return total\n",
    "\n",
    "# Example usage\n",
    "numbers_list = [1, 2, 3, 4, 5, 6, 7, 8, 9, 10]\n",
    "sum_of_evens = find_sum_of_evens(numbers_list)\n",
    "print(\"Sum of evens:\", sum_of_evens)\n"
   ]
  },
  {
   "cell_type": "markdown",
   "id": "f91be427",
   "metadata": {},
   "source": [
    "32. Implement a function to calculate the power of a number using recursion."
   ]
  },
  {
   "cell_type": "code",
   "execution_count": 42,
   "id": "931bd728",
   "metadata": {},
   "outputs": [
    {
     "name": "stdout",
     "output_type": "stream",
     "text": [
      "Result: 8\n"
     ]
    }
   ],
   "source": [
    "def power(base, exponent):\n",
    "    if exponent == 0:\n",
    "        return 1\n",
    "    elif exponent < 0:\n",
    "        return 1 / power(base, -exponent)\n",
    "    else:\n",
    "        return base * power(base, exponent - 1)\n",
    "\n",
    "# Example usage\n",
    "base = 2\n",
    "exponent = 3\n",
    "result = power(base, exponent)\n",
    "print(\"Result:\", result)\n"
   ]
  },
  {
   "cell_type": "markdown",
   "id": "8ecb3fed",
   "metadata": {},
   "source": [
    "33. Write a Python program to remove duplicates from a list while preserving the order."
   ]
  },
  {
   "cell_type": "code",
   "execution_count": 43,
   "id": "040cccd2",
   "metadata": {},
   "outputs": [
    {
     "name": "stdout",
     "output_type": "stream",
     "text": [
      "Unique numbers: [1, 2, 3, 4, 5]\n"
     ]
    }
   ],
   "source": [
    "def remove_duplicates_preserve_order(input_list):\n",
    "    seen = set()\n",
    "    unique_list = []\n",
    "    for item in input_list:\n",
    "        if item not in seen:\n",
    "            seen.add(item)\n",
    "            unique_list.append(item)\n",
    "    return unique_list\n",
    "\n",
    "# Example usage\n",
    "numbers = [1, 2, 2, 3, 4, 4, 5]\n",
    "unique_numbers = remove_duplicates_preserve_order(numbers)\n",
    "print(\"Unique numbers:\", unique_numbers)\n"
   ]
  },
  {
   "cell_type": "markdown",
   "id": "339c92cf",
   "metadata": {},
   "source": [
    "34. Implement a function to find the longest common prefix among a list of strings."
   ]
  },
  {
   "cell_type": "code",
   "execution_count": 44,
   "id": "807a40a9",
   "metadata": {},
   "outputs": [
    {
     "name": "stdout",
     "output_type": "stream",
     "text": [
      "Longest common prefix: fl\n"
     ]
    }
   ],
   "source": [
    "def find_longest_common_prefix(strings):\n",
    "    if not strings:\n",
    "        return \"\"\n",
    "    shortest_string = min(strings, key=len)\n",
    "    for i, char in enumerate(shortest_string):\n",
    "        for string in strings:\n",
    "            if string[i] != char:\n",
    "                return shortest_string[:i]\n",
    "    return shortest_string\n",
    "\n",
    "# Example usage\n",
    "string_list = [\"flower\", \"flow\", \"flight\"]\n",
    "longest_common_prefix = find_longest_common_prefix(string_list)\n",
    "print(\"Longest common prefix:\", longest_common_prefix)\n"
   ]
  },
  {
   "cell_type": "markdown",
   "id": "0fa5fe9c",
   "metadata": {},
   "source": [
    "35. Write a program to check if a given number is a perfect square."
   ]
  },
  {
   "cell_type": "code",
   "execution_count": 45,
   "id": "b31dd8dc",
   "metadata": {},
   "outputs": [
    {
     "name": "stdout",
     "output_type": "stream",
     "text": [
      "Enter a number: 4\n",
      "Perfect square\n"
     ]
    }
   ],
   "source": [
    "def is_perfect_square(number):\n",
    "    if number < 0:\n",
    "        return False\n",
    "    sqrt = int(number ** 0.5)\n",
    "    return sqrt * sqrt == number\n",
    "\n",
    "# Example usage\n",
    "number = int(input(\"Enter a number: \"))\n",
    "if is_perfect_square(number):\n",
    "    print(\"Perfect square\")\n",
    "else:\n",
    "    print(\"Not a perfect square\")\n"
   ]
  },
  {
   "cell_type": "markdown",
   "id": "5acc9e75",
   "metadata": {},
   "source": [
    "36. Implement a function to calculate the product of all elements in a list."
   ]
  },
  {
   "cell_type": "code",
   "execution_count": 46,
   "id": "816b6404",
   "metadata": {},
   "outputs": [
    {
     "name": "stdout",
     "output_type": "stream",
     "text": [
      "Product: 120\n"
     ]
    }
   ],
   "source": [
    "def calculate_product(input_list):\n",
    "    product = 1\n",
    "    for num in input_list:\n",
    "        product *= num\n",
    "    return product\n",
    "\n",
    "# Example usage\n",
    "numbers = [2, 3, 4, 5]\n",
    "product = calculate_product(numbers)\n",
    "print(\"Product:\", product)\n"
   ]
  },
  {
   "cell_type": "markdown",
   "id": "54de8f8c",
   "metadata": {},
   "source": [
    "37. Write a Python program to reverse the order of words in a sentence while preserving the word order."
   ]
  },
  {
   "cell_type": "code",
   "execution_count": 61,
   "id": "d119eb2c",
   "metadata": {},
   "outputs": [
    {
     "name": "stdout",
     "output_type": "stream",
     "text": [
      "Reversed sentence: World! Hello,\n"
     ]
    }
   ],
   "source": [
    "def reverse_words_preserve_order(sentence):\n",
    "    words = sentence.split()\n",
    "    reversed_words = ' '.join(reversed(words))\n",
    "    return reversed_words\n",
    "\n",
    "# Example usage\n",
    "input_sentence = \"Hello, World!\"\n",
    "reversed_sentence = reverse_words_preserve_order(input_sentence)\n",
    "print(\"Reversed sentence:\", reversed_sentence)\n"
   ]
  },
  {
   "cell_type": "markdown",
   "id": "70651876",
   "metadata": {},
   "source": [
    "38. Implement a function to find the missing number in a given list of consecutive numbers."
   ]
  },
  {
   "cell_type": "code",
   "execution_count": 48,
   "id": "d1994074",
   "metadata": {},
   "outputs": [
    {
     "name": "stdout",
     "output_type": "stream",
     "text": [
      "Missing number: 3\n"
     ]
    }
   ],
   "source": [
    "def find_missing_number(numbers):\n",
    "    n = len(numbers) + 1\n",
    "    total_sum = (n * (n + 1)) // 2\n",
    "    current_sum = sum(numbers)\n",
    "    missing_number = total_sum - current_sum\n",
    "    return missing_number\n",
    "\n",
    "# Example usage\n",
    "number_list = [1, 2, 4, 5, 6]\n",
    "missing_number = find_missing_number(number_list)\n",
    "print(\"Missing number:\", missing_number)\n"
   ]
  },
  {
   "cell_type": "markdown",
   "id": "c4e30ccd",
   "metadata": {},
   "source": [
    "39. Write a program to find the sum of digits of a given number."
   ]
  },
  {
   "cell_type": "code",
   "execution_count": 49,
   "id": "4432a5fa",
   "metadata": {},
   "outputs": [
    {
     "name": "stdout",
     "output_type": "stream",
     "text": [
      "Enter a number: 123\n",
      "Sum of digits: 6\n"
     ]
    }
   ],
   "source": [
    "def find_sum_of_digits(number):\n",
    "    total = 0\n",
    "    while number > 0:\n",
    "        digit = number % 10\n",
    "        total += digit\n",
    "        number //= 10\n",
    "    return total\n",
    "\n",
    "# Example usage\n",
    "number = int(input(\"Enter a number: \"))\n",
    "sum_of_digits = find_sum_of_digits(number)\n",
    "print(\"Sum of digits:\", sum_of_digits)\n"
   ]
  },
  {
   "cell_type": "markdown",
   "id": "b07a31e6",
   "metadata": {},
   "source": [
    "40. Implement a function to check if a given string is a valid palindrome considering case sensitivity."
   ]
  },
  {
   "cell_type": "code",
   "execution_count": 50,
   "id": "0c4fcd5a",
   "metadata": {},
   "outputs": [
    {
     "name": "stdout",
     "output_type": "stream",
     "text": [
      "Not a valid palindrome\n"
     ]
    }
   ],
   "source": [
    "def is_valid_palindrome_case_sensitive(string):\n",
    "    reversed_string = string[::-1]\n",
    "    return string == reversed_string\n",
    "\n",
    "# Example usage\n",
    "input_string = \"Hello, World!\"\n",
    "if is_valid_palindrome_case_sensitive(input_string):\n",
    "    print(\"Valid palindrome\")\n",
    "else:\n",
    "    print(\"Not a valid palindrome\")\n"
   ]
  },
  {
   "cell_type": "markdown",
   "id": "75ff2562",
   "metadata": {},
   "source": [
    "41. Write a Python program to find the smallest missing positive integer in a list."
   ]
  },
  {
   "cell_type": "code",
   "execution_count": 51,
   "id": "1358b8f5",
   "metadata": {},
   "outputs": [
    {
     "name": "stdout",
     "output_type": "stream",
     "text": [
      "Smallest missing positive: 2\n"
     ]
    }
   ],
   "source": [
    "def find_smallest_missing_positive(nums):\n",
    "    n = len(nums)\n",
    "    for i in range(n):\n",
    "        while 1 <= nums[i] <= n and nums[i] != nums[nums[i] - 1]:\n",
    "            nums[nums[i] - 1], nums[i] = nums[i], nums[nums[i] - 1]\n",
    "    for i in range(n):\n",
    "        if nums[i] != i + 1:\n",
    "            return i + 1\n",
    "    return n + 1\n",
    "\n",
    "# Example usage\n",
    "number_list = [3, 4, -1, 1]\n",
    "smallest_missing_positive = find_smallest_missing_positive(number_list)\n",
    "print(\"Smallest missing positive:\", smallest_missing_positive)\n"
   ]
  },
  {
   "cell_type": "markdown",
   "id": "27a01dab",
   "metadata": {},
   "source": [
    "42. Implement a function to find the longest palindrome substring in a given string."
   ]
  },
  {
   "cell_type": "code",
   "execution_count": 52,
   "id": "9fe680bf",
   "metadata": {},
   "outputs": [
    {
     "name": "stdout",
     "output_type": "stream",
     "text": [
      "Longest palindrome substring: bab\n"
     ]
    }
   ],
   "source": [
    "def find_longest_palindrome_substring(string):\n",
    "    longest_palindrome = \"\"\n",
    "    for i in range(len(string)):\n",
    "        for j in range(i, len(string)):\n",
    "            substring = string[i:j+1]\n",
    "            if substring == substring[::-1] and len(substring) > len(longest_palindrome):\n",
    "                longest_palindrome = substring\n",
    "    return longest_palindrome\n",
    "\n",
    "# Example usage\n",
    "input_string = \"babad\"\n",
    "longest_palindrome = find_longest_palindrome_substring(input_string)\n",
    "print(\"Longest palindrome substring:\", longest_palindrome)\n"
   ]
  },
  {
   "cell_type": "markdown",
   "id": "d5457474",
   "metadata": {},
   "source": [
    "43. Write a program to find the number of occurrences of a given element in a list."
   ]
  },
  {
   "cell_type": "code",
   "execution_count": 53,
   "id": "38e229b3",
   "metadata": {},
   "outputs": [
    {
     "name": "stdout",
     "output_type": "stream",
     "text": [
      "Occurrence count: 4\n"
     ]
    }
   ],
   "source": [
    "def count_occurrences(input_list, element):\n",
    "    count = 0\n",
    "    for item in input_list:\n",
    "        if item == element:\n",
    "            count += 1\n",
    "    return count\n",
    "\n",
    "# Example usage\n",
    "numbers = [1, 2, 2, 3, 2, 4, 2]\n",
    "element = 2\n",
    "occurrence_count = count_occurrences(numbers, element)\n",
    "print(\"Occurrence count:\", occurrence_count)\n"
   ]
  },
  {
   "cell_type": "markdown",
   "id": "1e671691",
   "metadata": {},
   "source": [
    "44. Implement a function to check if a given number is a perfect number."
   ]
  },
  {
   "cell_type": "code",
   "execution_count": 54,
   "id": "ec718a44",
   "metadata": {},
   "outputs": [
    {
     "name": "stdout",
     "output_type": "stream",
     "text": [
      "Enter a number: 3\n",
      "Not a perfect number\n"
     ]
    }
   ],
   "source": [
    "def is_perfect_number(number):\n",
    "    if number <= 0:\n",
    "        return False\n",
    "    divisor_sum = 0\n",
    "    for i in range(1, number):\n",
    "        if number % i == 0:\n",
    "            divisor_sum += i\n",
    "    return divisor_sum == number\n",
    "\n",
    "# Example usage\n",
    "number = int(input(\"Enter a number: \"))\n",
    "if is_perfect_number(number):\n",
    "    print(\"Perfect number\")\n",
    "else:\n",
    "    print(\"Not a perfect number\")\n"
   ]
  },
  {
   "cell_type": "markdown",
   "id": "61105245",
   "metadata": {},
   "source": [
    "45. Write a Python program to remove all duplicates from a string."
   ]
  },
  {
   "cell_type": "code",
   "execution_count": 55,
   "id": "c4e11918",
   "metadata": {},
   "outputs": [
    {
     "name": "stdout",
     "output_type": "stream",
     "text": [
      "String without duplicates: Helo, Wrd!\n"
     ]
    }
   ],
   "source": [
    "def remove_duplicates_from_string(input_string):\n",
    "    unique_chars = \"\"\n",
    "    for char in input_string:\n",
    "        if char not in unique_chars:\n",
    "            unique_chars += char\n",
    "    return unique_chars\n",
    "\n",
    "# Example usage\n",
    "string = \"Hello, World!\"\n",
    "result_string = remove_duplicates_from_string(string)\n",
    "print(\"String without duplicates:\", result_string)\n"
   ]
  },
  {
   "cell_type": "markdown",
   "id": "18fe151b",
   "metadata": {},
   "source": [
    "46. Implement a function to find the first missing positive"
   ]
  },
  {
   "cell_type": "code",
   "execution_count": 56,
   "id": "0bc15eae",
   "metadata": {},
   "outputs": [
    {
     "name": "stdout",
     "output_type": "stream",
     "text": [
      "First missing positive: 2\n"
     ]
    }
   ],
   "source": [
    "def find_first_missing_positive(nums):\n",
    "    n = len(nums)\n",
    "    for i in range(n):\n",
    "        while 1 <= nums[i] <= n and nums[i] != nums[nums[i] - 1]:\n",
    "            nums[nums[i] - 1], nums[i] = nums[i], nums[nums[i] - 1]\n",
    "    for i in range(n):\n",
    "        if nums[i] != i + 1:\n",
    "            return i + 1\n",
    "    return n + 1\n",
    "\n",
    "# Example usage\n",
    "number_list = [3, 4, -1, 1]\n",
    "first_missing_positive = find_first_missing_positive(number_list)\n",
    "print(\"First missing positive:\", first_missing_positive)\n"
   ]
  },
  {
   "cell_type": "code",
   "execution_count": null,
   "id": "1087ad10",
   "metadata": {},
   "outputs": [],
   "source": []
  }
 ],
 "metadata": {
  "kernelspec": {
   "display_name": "Python 3 (ipykernel)",
   "language": "python",
   "name": "python3"
  },
  "language_info": {
   "codemirror_mode": {
    "name": "ipython",
    "version": 3
   },
   "file_extension": ".py",
   "mimetype": "text/x-python",
   "name": "python",
   "nbconvert_exporter": "python",
   "pygments_lexer": "ipython3",
   "version": "3.9.13"
  }
 },
 "nbformat": 4,
 "nbformat_minor": 5
}
