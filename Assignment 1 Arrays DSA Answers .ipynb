{
 "cells": [
  {
   "cell_type": "markdown",
   "id": "c8e89793",
   "metadata": {},
   "source": [
    "## Assignment 1- Answers  Arrays | DSA"
   ]
  },
  {
   "cell_type": "markdown",
   "id": "0f84580b",
   "metadata": {},
   "source": [
    "### **Q1.** ANS"
   ]
  },
  {
   "cell_type": "code",
   "execution_count": 7,
   "id": "cbb315b5",
   "metadata": {},
   "outputs": [
    {
     "name": "stdout",
     "output_type": "stream",
     "text": [
      "Enter the numbers separated by spaces: 2 7 11 15\n",
      "Enter the target value: 9\n",
      "[0, 1]\n"
     ]
    }
   ],
   "source": [
    "def twoSum(nums, target):\n",
    "    num_dict = {}\n",
    "    for i, num in enumerate(nums):\n",
    "        complement = target - num\n",
    "        if complement in num_dict:\n",
    "            return [num_dict[complement], i]\n",
    "        num_dict[num] = i\n",
    "    return []\n",
    "\n",
    "# Get user input for nums array\n",
    "nums = input(\"Enter the numbers separated by spaces: \").split()\n",
    "nums = [int(num) for num in nums]\n",
    "\n",
    "# Get user input for target value\n",
    "target = int(input(\"Enter the target value: \"))\n",
    "\n",
    "result = twoSum(nums, target)\n",
    "print(result)\n"
   ]
  },
  {
   "cell_type": "markdown",
   "id": "733e5cc5",
   "metadata": {},
   "source": [
    "### Q2. ANS"
   ]
  },
  {
   "cell_type": "code",
   "execution_count": 6,
   "id": "1099163d",
   "metadata": {},
   "outputs": [
    {
     "name": "stdout",
     "output_type": "stream",
     "text": [
      "Enter the numbers separated by spaces: 3 2 2 3\n",
      "Enter the value to remove: 3\n",
      "k = 2\n",
      "nums = [2, 2]_* _* \n"
     ]
    }
   ],
   "source": [
    "def removeElement(nums, val):\n",
    "    i = 0\n",
    "    for j in range(len(nums)):\n",
    "        if nums[j] != val:\n",
    "            nums[i] = nums[j]\n",
    "            i += 1\n",
    "    return i\n",
    "\n",
    "# Get user input for nums array\n",
    "nums = input(\"Enter the numbers separated by spaces: \").split()\n",
    "nums = [int(num) for num in nums]\n",
    "\n",
    "# Get user input for val\n",
    "val = int(input(\"Enter the value to remove: \"))\n",
    "\n",
    "k = removeElement(nums, val)\n",
    "print(\"k =\", k)\n",
    "print(\"nums =\", nums[:k], end=\"\")\n",
    "print(\"_* \" * (len(nums) - k))\n"
   ]
  },
  {
   "cell_type": "markdown",
   "id": "d0d2fbcc",
   "metadata": {},
   "source": [
    "### Q3. ANS"
   ]
  },
  {
   "cell_type": "code",
   "execution_count": 8,
   "id": "3f5d51e9",
   "metadata": {},
   "outputs": [
    {
     "name": "stdout",
     "output_type": "stream",
     "text": [
      "Enter the numbers separated by spaces: 1 3 5 6 \n",
      "Enter the target value: 5\n",
      "2\n"
     ]
    }
   ],
   "source": [
    "def searchInsert(nums, target):\n",
    "    left = 0\n",
    "    right = len(nums) - 1\n",
    "\n",
    "    while left <= right:\n",
    "        mid = (left + right) // 2\n",
    "        if nums[mid] == target:\n",
    "            return mid\n",
    "        elif nums[mid] < target:\n",
    "            left = mid + 1\n",
    "        else:\n",
    "            right = mid - 1\n",
    "\n",
    "    return left\n",
    "\n",
    "# Get user input for nums array\n",
    "nums = input(\"Enter the numbers separated by spaces: \").split()\n",
    "nums = [int(num) for num in nums]\n",
    "\n",
    "# Get user input for target value\n",
    "target = int(input(\"Enter the target value: \"))\n",
    "\n",
    "index = searchInsert(nums, target)\n",
    "print(index)\n"
   ]
  },
  {
   "cell_type": "markdown",
   "id": "0e25fd2e",
   "metadata": {},
   "source": [
    "### Q4. ANS"
   ]
  },
  {
   "cell_type": "code",
   "execution_count": 9,
   "id": "d60acf20",
   "metadata": {},
   "outputs": [
    {
     "name": "stdout",
     "output_type": "stream",
     "text": [
      "Enter the digits separated by spaces: 1 2 3\n",
      "[1, 2, 4]\n"
     ]
    }
   ],
   "source": [
    "def plusOne(digits):\n",
    "    n = len(digits)\n",
    "    for i in range(n - 1, -1, -1):\n",
    "        if digits[i] < 9:\n",
    "            digits[i] += 1\n",
    "            return digits\n",
    "        digits[i] = 0\n",
    "    return [1] + digits\n",
    "\n",
    "# Get user input for digits array\n",
    "digits = input(\"Enter the digits separated by spaces: \").split()\n",
    "digits = [int(digit) for digit in digits]\n",
    "\n",
    "result = plusOne(digits)\n",
    "print(result)\n"
   ]
  },
  {
   "cell_type": "markdown",
   "id": "163b83e5",
   "metadata": {},
   "source": [
    "### Q5. ANS"
   ]
  },
  {
   "cell_type": "code",
   "execution_count": 10,
   "id": "d03eac59",
   "metadata": {},
   "outputs": [
    {
     "name": "stdout",
     "output_type": "stream",
     "text": [
      "[1, 2, 2, 3, 5, 6]\n"
     ]
    }
   ],
   "source": [
    "def merge(nums1, m, nums2, n):\n",
    "    p1 = m - 1\n",
    "    p2 = n - 1\n",
    "    p = m + n - 1\n",
    "\n",
    "    while p1 >= 0 and p2 >= 0:\n",
    "        if nums1[p1] >= nums2[p2]:\n",
    "            nums1[p] = nums1[p1]\n",
    "            p1 -= 1\n",
    "        else:\n",
    "            nums1[p] = nums2[p2]\n",
    "            p2 -= 1\n",
    "        p -= 1\n",
    "\n",
    "    nums1[:p2 + 1] = nums2[:p2 + 1]\n",
    "\n",
    "# Example usage\n",
    "nums1 = [1, 2, 3, 0, 0, 0]\n",
    "m = 3\n",
    "nums2 = [2, 5, 6]\n",
    "n = 3\n",
    "\n",
    "merge(nums1, m, nums2, n)\n",
    "print(nums1)  # Output: [1, 2, 2, 3, 5, 6]\n"
   ]
  },
  {
   "cell_type": "markdown",
   "id": "8d71cf75",
   "metadata": {},
   "source": [
    "### Q6. ANS"
   ]
  },
  {
   "cell_type": "code",
   "execution_count": 11,
   "id": "7c95d5bd",
   "metadata": {},
   "outputs": [
    {
     "name": "stdout",
     "output_type": "stream",
     "text": [
      "Enter the numbers separated by spaces: 1 2 3 1\n",
      "True\n"
     ]
    }
   ],
   "source": [
    "def containsDuplicate(nums):\n",
    "    num_set = set()\n",
    "    for num in nums:\n",
    "        if num in num_set:\n",
    "            return True\n",
    "        num_set.add(num)\n",
    "    return False\n",
    "\n",
    "# Get user input for nums array\n",
    "nums = input(\"Enter the numbers separated by spaces: \").split()\n",
    "nums = [int(num) for num in nums]\n",
    "\n",
    "result = containsDuplicate(nums)\n",
    "print(result)\n"
   ]
  },
  {
   "cell_type": "code",
   "execution_count": null,
   "id": "70918fc9",
   "metadata": {},
   "outputs": [],
   "source": [
    "Q7. ANS"
   ]
  },
  {
   "cell_type": "code",
   "execution_count": 13,
   "id": "7aaffab4",
   "metadata": {},
   "outputs": [
    {
     "name": "stdout",
     "output_type": "stream",
     "text": [
      "Enter the numbers separated by spaces: 0 1 0 2 12\n",
      "[1, 2, 12, 0, 0]\n"
     ]
    }
   ],
   "source": [
    "def moveZeroes(nums):\n",
    "    zero_idx = 0\n",
    "\n",
    "    # Move non-zero elements to the front of the array\n",
    "    for i in range(len(nums)):\n",
    "        if nums[i] != 0:\n",
    "            nums[i], nums[zero_idx] = nums[zero_idx], nums[i]\n",
    "            zero_idx += 1\n",
    "\n",
    "# Get user input for nums array\n",
    "nums = input(\"Enter the numbers separated by spaces: \").split()\n",
    "nums = [int(num) for num in nums]\n",
    "\n",
    "moveZeroes(nums)\n",
    "print(nums)\n"
   ]
  },
  {
   "cell_type": "code",
   "execution_count": null,
   "id": "a582affd",
   "metadata": {},
   "outputs": [],
   "source": [
    "Q8. ANS"
   ]
  },
  {
   "cell_type": "code",
   "execution_count": 14,
   "id": "fc795d54",
   "metadata": {},
   "outputs": [
    {
     "name": "stdout",
     "output_type": "stream",
     "text": [
      "Enter the numbers separated by spaces: 1 2 2 4\n",
      "[2, 3]\n"
     ]
    }
   ],
   "source": [
    "def findErrorNums(nums):\n",
    "    n = len(nums)\n",
    "    num_set = set()\n",
    "    duplicate_num = -1\n",
    "    missing_num = -1\n",
    "\n",
    "    # Find the duplicate number\n",
    "    for num in nums:\n",
    "        if num in num_set:\n",
    "            duplicate_num = num\n",
    "        else:\n",
    "            num_set.add(num)\n",
    "\n",
    "    # Find the missing number\n",
    "    for num in range(1, n + 1):\n",
    "        if num not in num_set:\n",
    "            missing_num = num\n",
    "            break\n",
    "\n",
    "    return [duplicate_num, missing_num]\n",
    "\n",
    "# Get user input for nums array\n",
    "nums = input(\"Enter the numbers separated by spaces: \").split()\n",
    "nums = [int(num) for num in nums]\n",
    "\n",
    "result = findErrorNums(nums)\n",
    "print(result)\n"
   ]
  }
 ],
 "metadata": {
  "kernelspec": {
   "display_name": "Python 3 (ipykernel)",
   "language": "python",
   "name": "python3"
  },
  "language_info": {
   "codemirror_mode": {
    "name": "ipython",
    "version": 3
   },
   "file_extension": ".py",
   "mimetype": "text/x-python",
   "name": "python",
   "nbconvert_exporter": "python",
   "pygments_lexer": "ipython3",
   "version": "3.9.13"
  }
 },
 "nbformat": 4,
 "nbformat_minor": 5
}
